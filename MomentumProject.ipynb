{
 "cells": [
  {
   "cell_type": "code",
   "execution_count": 2,
   "metadata": {},
   "outputs": [
    {
     "data": {
      "text/html": [
       "        <script type=\"text/javascript\">\n",
       "        window.PlotlyConfig = {MathJaxConfig: 'local'};\n",
       "        if (window.MathJax) {MathJax.Hub.Config({SVG: {font: \"STIX-Web\"}});}\n",
       "        if (typeof require !== 'undefined') {\n",
       "        require.undef(\"plotly\");\n",
       "        requirejs.config({\n",
       "            paths: {\n",
       "                'plotly': ['https://cdn.plot.ly/plotly-latest.min']\n",
       "            }\n",
       "        });\n",
       "        require(['plotly'], function(Plotly) {\n",
       "            window._Plotly = Plotly;\n",
       "        });\n",
       "        }\n",
       "        </script>\n",
       "        "
      ]
     },
     "metadata": {},
     "output_type": "display_data"
    },
    {
     "data": {
      "text/html": [
       "        <script type=\"text/javascript\">\n",
       "        window.PlotlyConfig = {MathJaxConfig: 'local'};\n",
       "        if (window.MathJax) {MathJax.Hub.Config({SVG: {font: \"STIX-Web\"}});}\n",
       "        if (typeof require !== 'undefined') {\n",
       "        require.undef(\"plotly\");\n",
       "        requirejs.config({\n",
       "            paths: {\n",
       "                'plotly': ['https://cdn.plot.ly/plotly-latest.min']\n",
       "            }\n",
       "        });\n",
       "        require(['plotly'], function(Plotly) {\n",
       "            window._Plotly = Plotly;\n",
       "        });\n",
       "        }\n",
       "        </script>\n",
       "        "
      ]
     },
     "metadata": {},
     "output_type": "display_data"
    }
   ],
   "source": [
    "import pandas as pd\n",
    "pd.options.display.float_format = '{:,.3f}'.format\n",
    "import numpy as np\n",
    "\n",
    "import warnings\n",
    "warnings.filterwarnings('ignore')\n",
    "\n",
    "#plotting\n",
    "import plotly\n",
    "from plotly.offline import download_plotlyjs, init_notebook_mode, plot, iplot\n",
    "import plotly.graph_objs as go\n",
    "import plotly.figure_factory as ff\n",
    "\n",
    "\n",
    "import cufflinks as cf\n",
    "init_notebook_mode(connected=True)\n",
    "cf.go_offline()\n",
    "cf.set_config_file(offline=False, world_readable=True)\n",
    "\n",
    "import matplotlib.pyplot as plt\n",
    "%matplotlib inline\n",
    "\n",
    "import json\n",
    "import datetime as dt\n",
    "import os"
   ]
  },
  {
   "cell_type": "code",
   "execution_count": 3,
   "metadata": {},
   "outputs": [],
   "source": [
    "from IPython.display import Image\n",
    "from IPython.core.display import display, HTML, Markdown"
   ]
  },
  {
   "cell_type": "code",
   "execution_count": 4,
   "metadata": {},
   "outputs": [],
   "source": [
    "def format_graph(data_graph):\n",
    "    data_graph['layout']['paper_bgcolor']='white'\n",
    "    data_graph['layout']['plot_bgcolor']='white'\n",
    "    data_graph['layout']['margin']=dict(l=120, r=10, t=140, b=80)\n",
    "    data_graph['layout']['title']['font']['family']='Bree Serif' \n",
    "    data_graph['layout']['title']['font']['size']=18\n",
    "    data_graph['layout']['title']['font']['color']='black'\n",
    "    data_graph['layout']['yaxis']['title']['font']['family']='Bree Serif' \n",
    "    data_graph['layout']['yaxis']['title']['font']['size']=18\n",
    "    data_graph['layout']['yaxis']['title']['font']['color']='black'\n",
    "    data_graph['layout']['xaxis']['title']['font']['family']='Bree Serif' \n",
    "    data_graph['layout']['xaxis']['title']['font']['size']=18\n",
    "    data_graph['layout']['xaxis']['title']['font']['color']='black'\n",
    "    data_graph['layout']['legend']['font']=dict(color='black',size=14,family='Bree Serif')\n",
    "    data_graph['layout']['yaxis']['tickfont']=dict(color='black',size=16,family='Bree Serif')\n",
    "    data_graph['layout']['xaxis']['tickfont']=dict(color='black',size=16,family='Bree Serif')\n",
    "    return data_graph"
   ]
  },
  {
   "cell_type": "markdown",
   "metadata": {},
   "source": [
    "# Exploring the data"
   ]
  },
  {
   "cell_type": "code",
   "execution_count": 5,
   "metadata": {},
   "outputs": [],
   "source": [
    "data_folder = r'getting_the_data\\data'"
   ]
  },
  {
   "cell_type": "code",
   "execution_count": 32,
   "metadata": {},
   "outputs": [],
   "source": [
    "for filename in [x for x in os.listdir(data_folder) if '.csv' in x][1:2]:\n",
    "    df = pd.read_csv(data_folder+r'\\\\'+filename, encoding='utf-8').drop('Unnamed: 0',1)\n",
    "    df['timestamp'] = df[['date','time']].apply(lambda x:\\\n",
    "                          pd.to_datetime(x[0]+x[1].split('days')[1]), axis=1) \n",
    "    df['date'] = df['timestamp'].dt.date\n",
    "    df['time'] = df['time'].apply(lambda x: pd.to_datetime(x.split('days')[1].strip()).time())\n",
    "        \n",
    "    df = df.sort_values(by = 'timestamp')\n",
    "    df = df.reset_index(drop=True)"
   ]
  },
  {
   "cell_type": "code",
   "execution_count": 73,
   "metadata": {},
   "outputs": [],
   "source": [
    "df['price_move'] = (df['close_p']/df['open_p']-1)*100"
   ]
  },
  {
   "cell_type": "code",
   "execution_count": 87,
   "metadata": {},
   "outputs": [],
   "source": [
    "df_features = pd.DataFrame()\n",
    "\n",
    "settlement_time = df['time'].max()\n",
    "for time in df['time'].unique():\n",
    "    df_part = df[df['time']==time].set_index('date')[['price_move']].copy()\n",
    "    \n",
    "    minute_change = str((dt.datetime.combine(dt.date.today(), settlement_time) \\\n",
    "                    - dt.datetime.combine(dt.date.today(), time)).seconds/60)\\\n",
    "                    .split('.')[0]\n",
    "    df_part.columns = ['price_move_'+minute_change]\n",
    "    df_features = df_features.join(df_part, how='outer')"
   ]
  },
  {
   "cell_type": "code",
   "execution_count": 88,
   "metadata": {},
   "outputs": [
    {
     "data": {
      "text/html": [
       "<div>\n",
       "<style scoped>\n",
       "    .dataframe tbody tr th:only-of-type {\n",
       "        vertical-align: middle;\n",
       "    }\n",
       "\n",
       "    .dataframe tbody tr th {\n",
       "        vertical-align: top;\n",
       "    }\n",
       "\n",
       "    .dataframe thead th {\n",
       "        text-align: right;\n",
       "    }\n",
       "</style>\n",
       "<table border=\"1\" class=\"dataframe\">\n",
       "  <thead>\n",
       "    <tr style=\"text-align: right;\">\n",
       "      <th></th>\n",
       "      <th>price_move_4</th>\n",
       "      <th>price_move_3</th>\n",
       "      <th>price_move_2</th>\n",
       "      <th>price_move_1</th>\n",
       "      <th>price_move_0</th>\n",
       "    </tr>\n",
       "  </thead>\n",
       "  <tbody>\n",
       "    <tr>\n",
       "      <th>price_move_4</th>\n",
       "      <td>1.000</td>\n",
       "      <td>-0.076</td>\n",
       "      <td>-0.017</td>\n",
       "      <td>-0.078</td>\n",
       "      <td>-0.014</td>\n",
       "    </tr>\n",
       "    <tr>\n",
       "      <th>price_move_3</th>\n",
       "      <td>-0.076</td>\n",
       "      <td>1.000</td>\n",
       "      <td>0.038</td>\n",
       "      <td>0.090</td>\n",
       "      <td>-0.024</td>\n",
       "    </tr>\n",
       "    <tr>\n",
       "      <th>price_move_2</th>\n",
       "      <td>-0.017</td>\n",
       "      <td>0.038</td>\n",
       "      <td>1.000</td>\n",
       "      <td>0.061</td>\n",
       "      <td>0.004</td>\n",
       "    </tr>\n",
       "    <tr>\n",
       "      <th>price_move_1</th>\n",
       "      <td>-0.078</td>\n",
       "      <td>0.090</td>\n",
       "      <td>0.061</td>\n",
       "      <td>1.000</td>\n",
       "      <td>-0.060</td>\n",
       "    </tr>\n",
       "    <tr>\n",
       "      <th>price_move_0</th>\n",
       "      <td>-0.014</td>\n",
       "      <td>-0.024</td>\n",
       "      <td>0.004</td>\n",
       "      <td>-0.060</td>\n",
       "      <td>1.000</td>\n",
       "    </tr>\n",
       "  </tbody>\n",
       "</table>\n",
       "</div>"
      ],
      "text/plain": [
       "              price_move_4  price_move_3  price_move_2  price_move_1  \\\n",
       "price_move_4         1.000        -0.076        -0.017        -0.078   \n",
       "price_move_3        -0.076         1.000         0.038         0.090   \n",
       "price_move_2        -0.017         0.038         1.000         0.061   \n",
       "price_move_1        -0.078         0.090         0.061         1.000   \n",
       "price_move_0        -0.014        -0.024         0.004        -0.060   \n",
       "\n",
       "              price_move_0  \n",
       "price_move_4        -0.014  \n",
       "price_move_3        -0.024  \n",
       "price_move_2         0.004  \n",
       "price_move_1        -0.060  \n",
       "price_move_0         1.000  "
      ]
     },
     "execution_count": 88,
     "metadata": {},
     "output_type": "execute_result"
    }
   ],
   "source": [
    "df_features.corr()"
   ]
  },
  {
   "cell_type": "code",
   "execution_count": 89,
   "metadata": {},
   "outputs": [
    {
     "data": {
      "text/html": [
       "<div>\n",
       "<style scoped>\n",
       "    .dataframe tbody tr th:only-of-type {\n",
       "        vertical-align: middle;\n",
       "    }\n",
       "\n",
       "    .dataframe tbody tr th {\n",
       "        vertical-align: top;\n",
       "    }\n",
       "\n",
       "    .dataframe thead th {\n",
       "        text-align: right;\n",
       "    }\n",
       "</style>\n",
       "<table border=\"1\" class=\"dataframe\">\n",
       "  <thead>\n",
       "    <tr style=\"text-align: right;\">\n",
       "      <th></th>\n",
       "      <th>price_move_4</th>\n",
       "      <th>price_move_3</th>\n",
       "      <th>price_move_2</th>\n",
       "      <th>price_move_1</th>\n",
       "      <th>price_move_0</th>\n",
       "    </tr>\n",
       "  </thead>\n",
       "  <tbody>\n",
       "    <tr>\n",
       "      <th>count</th>\n",
       "      <td>809.000</td>\n",
       "      <td>805.000</td>\n",
       "      <td>808.000</td>\n",
       "      <td>812.000</td>\n",
       "      <td>812.000</td>\n",
       "    </tr>\n",
       "    <tr>\n",
       "      <th>mean</th>\n",
       "      <td>0.007</td>\n",
       "      <td>-0.006</td>\n",
       "      <td>-0.002</td>\n",
       "      <td>-0.003</td>\n",
       "      <td>0.001</td>\n",
       "    </tr>\n",
       "    <tr>\n",
       "      <th>std</th>\n",
       "      <td>0.069</td>\n",
       "      <td>0.063</td>\n",
       "      <td>0.068</td>\n",
       "      <td>0.092</td>\n",
       "      <td>0.141</td>\n",
       "    </tr>\n",
       "    <tr>\n",
       "      <th>min</th>\n",
       "      <td>-0.293</td>\n",
       "      <td>-0.247</td>\n",
       "      <td>-0.239</td>\n",
       "      <td>-0.411</td>\n",
       "      <td>-0.671</td>\n",
       "    </tr>\n",
       "    <tr>\n",
       "      <th>25%</th>\n",
       "      <td>-0.035</td>\n",
       "      <td>-0.035</td>\n",
       "      <td>-0.035</td>\n",
       "      <td>-0.059</td>\n",
       "      <td>-0.091</td>\n",
       "    </tr>\n",
       "    <tr>\n",
       "      <th>50%</th>\n",
       "      <td>0.000</td>\n",
       "      <td>0.000</td>\n",
       "      <td>0.000</td>\n",
       "      <td>0.000</td>\n",
       "      <td>0.000</td>\n",
       "    </tr>\n",
       "    <tr>\n",
       "      <th>75%</th>\n",
       "      <td>0.036</td>\n",
       "      <td>0.032</td>\n",
       "      <td>0.034</td>\n",
       "      <td>0.036</td>\n",
       "      <td>0.073</td>\n",
       "    </tr>\n",
       "    <tr>\n",
       "      <th>max</th>\n",
       "      <td>0.460</td>\n",
       "      <td>0.318</td>\n",
       "      <td>0.338</td>\n",
       "      <td>0.403</td>\n",
       "      <td>0.669</td>\n",
       "    </tr>\n",
       "  </tbody>\n",
       "</table>\n",
       "</div>"
      ],
      "text/plain": [
       "       price_move_4  price_move_3  price_move_2  price_move_1  price_move_0\n",
       "count       809.000       805.000       808.000       812.000       812.000\n",
       "mean          0.007        -0.006        -0.002        -0.003         0.001\n",
       "std           0.069         0.063         0.068         0.092         0.141\n",
       "min          -0.293        -0.247        -0.239        -0.411        -0.671\n",
       "25%          -0.035        -0.035        -0.035        -0.059        -0.091\n",
       "50%           0.000         0.000         0.000         0.000         0.000\n",
       "75%           0.036         0.032         0.034         0.036         0.073\n",
       "max           0.460         0.318         0.338         0.403         0.669"
      ]
     },
     "execution_count": 89,
     "metadata": {},
     "output_type": "execute_result"
    }
   ],
   "source": [
    "df_features.describe()"
   ]
  },
  {
   "cell_type": "code",
   "execution_count": 90,
   "metadata": {},
   "outputs": [],
   "source": [
    "for column in [x for x in df_features.columns if 'price_move' in x]:\n",
    "    df_features[column.replace('price_move_','is_inrease_')] = df_features[column].apply(lambda x: 1 if x>=0 else 0)\n",
    "    df_features.loc[pd.isnull(df_features[column]),column.replace('price_move_','is_inrease_')]=np.nan"
   ]
  },
  {
   "cell_type": "code",
   "execution_count": 100,
   "metadata": {},
   "outputs": [
    {
     "data": {
      "application/vnd.plotly.v1+json": {
       "config": {
        "linkText": "Export to plot.ly",
        "plotlyServerURL": "https://plot.ly",
        "showLink": false
       },
       "data": [
        {
         "colorscale": [
          [
           0,
           "rgb(103,0,31)"
          ],
          [
           0.1,
           "rgb(178,24,43)"
          ],
          [
           0.2,
           "rgb(214,96,77)"
          ],
          [
           0.3,
           "rgb(244,165,130)"
          ],
          [
           0.4,
           "rgb(253,219,199)"
          ],
          [
           0.5,
           "rgb(247,247,247)"
          ],
          [
           0.6,
           "rgb(209,229,240)"
          ],
          [
           0.7,
           "rgb(146,197,222)"
          ],
          [
           0.8,
           "rgb(67,147,195)"
          ],
          [
           0.9,
           "rgb(33,102,172)"
          ],
          [
           1,
           "rgb(5,48,97)"
          ]
         ],
         "type": "heatmap",
         "x": [
          "price_move_4",
          "price_move_3",
          "price_move_2",
          "price_move_1",
          "price_move_0",
          "is_inrease_4",
          "is_inrease_3",
          "is_inrease_2",
          "is_inrease_1",
          "is_inrease_0"
         ],
         "y": [
          "price_move_4",
          "price_move_3",
          "price_move_2",
          "price_move_1",
          "price_move_0",
          "is_inrease_4",
          "is_inrease_3",
          "is_inrease_2",
          "is_inrease_1",
          "is_inrease_0"
         ],
         "z": [
          [
           1,
           -0.07603228677212415,
           -0.017072743885298235,
           -0.0782623121703874,
           -0.01372577315502742,
           0.7318209692510194,
           -0.02733590030380128,
           -0.019214826978305278,
           -0.030706305266646767,
           -0.03195604520515796
          ],
          [
           -0.07603228677212415,
           1,
           0.03849614846724553,
           0.08968427043728751,
           -0.023973829572760126,
           0.0021265317901620964,
           0.7324396532246303,
           0.039842092944677186,
           0.04136783454164326,
           0.05093857347347704
          ],
          [
           -0.017072743885298235,
           0.03849614846724553,
           1,
           0.0611766585275858,
           0.00401700896589968,
           -0.0204587588549509,
           1.8062608377011557e-05,
           0.7328064120433296,
           0.034286467134294764,
           0.01206471494617129
          ],
          [
           -0.0782623121703874,
           0.08968427043728751,
           0.0611766585275858,
           1,
           -0.06035272800157029,
           -0.028608223493286972,
           0.06842003352054282,
           0.06345532004827667,
           0.7360030167531416,
           -0.07541195832835414
          ],
          [
           -0.01372577315502742,
           -0.023973829572760126,
           0.00401700896589968,
           -0.06035272800157029,
           1,
           -0.04949778311569517,
           0.017929339366854265,
           -0.004736180193305708,
           -0.052816902971041656,
           0.7438404443752958
          ],
          [
           0.7318209692510194,
           0.0021265317901620964,
           -0.0204587588549509,
           -0.028608223493286972,
           -0.04949778311569517,
           1,
           0.012451776044043962,
           0.0069372219313677715,
           -0.007590538816846783,
           -0.03804136901391469
          ],
          [
           -0.02733590030380128,
           0.7324396532246303,
           1.8062608377011557e-05,
           0.06842003352054282,
           0.017929339366854265,
           0.012451776044043962,
           1,
           -0.024288909191107946,
           0.04608934712005508,
           0.051946131455391446
          ],
          [
           -0.019214826978305278,
           0.039842092944677186,
           0.7328064120433296,
           0.06345532004827667,
           -0.004736180193305708,
           0.0069372219313677715,
           -0.024288909191107946,
           1,
           0.07584108322647114,
           -0.01315411079079613
          ],
          [
           -0.030706305266646767,
           0.04136783454164326,
           0.034286467134294764,
           0.7360030167531416,
           -0.052816902971041656,
           -0.007590538816846783,
           0.04608934712005508,
           0.07584108322647114,
           1,
           -0.06085440237854939
          ],
          [
           -0.03195604520515796,
           0.05093857347347704,
           0.01206471494617129,
           -0.07541195832835414,
           0.7438404443752958,
           -0.03804136901391469,
           0.051946131455391446,
           -0.01315411079079613,
           -0.06085440237854939,
           1
          ]
         ],
         "zmax": 1,
         "zmin": -0.0782623121703874
        }
       ],
       "layout": {
        "height": 400,
        "legend": {
         "bgcolor": "#F5F6F9",
         "font": {
          "color": "#4D5663",
          "family": "Bree Serif",
          "size": 18
         }
        },
        "margin": {
         "b": 0,
         "l": 0,
         "r": 120,
         "t": 0
        },
        "paper_bgcolor": "#FFFFFF",
        "plot_bgcolor": "#FFFFFF",
        "template": {
         "data": {
          "bar": [
           {
            "error_x": {
             "color": "#2a3f5f"
            },
            "error_y": {
             "color": "#2a3f5f"
            },
            "marker": {
             "line": {
              "color": "#E5ECF6",
              "width": 0.5
             }
            },
            "type": "bar"
           }
          ],
          "barpolar": [
           {
            "marker": {
             "line": {
              "color": "#E5ECF6",
              "width": 0.5
             }
            },
            "type": "barpolar"
           }
          ],
          "carpet": [
           {
            "aaxis": {
             "endlinecolor": "#2a3f5f",
             "gridcolor": "white",
             "linecolor": "white",
             "minorgridcolor": "white",
             "startlinecolor": "#2a3f5f"
            },
            "baxis": {
             "endlinecolor": "#2a3f5f",
             "gridcolor": "white",
             "linecolor": "white",
             "minorgridcolor": "white",
             "startlinecolor": "#2a3f5f"
            },
            "type": "carpet"
           }
          ],
          "choropleth": [
           {
            "colorbar": {
             "outlinewidth": 0,
             "ticks": ""
            },
            "type": "choropleth"
           }
          ],
          "contour": [
           {
            "colorbar": {
             "outlinewidth": 0,
             "ticks": ""
            },
            "colorscale": [
             [
              0,
              "#0d0887"
             ],
             [
              0.1111111111111111,
              "#46039f"
             ],
             [
              0.2222222222222222,
              "#7201a8"
             ],
             [
              0.3333333333333333,
              "#9c179e"
             ],
             [
              0.4444444444444444,
              "#bd3786"
             ],
             [
              0.5555555555555556,
              "#d8576b"
             ],
             [
              0.6666666666666666,
              "#ed7953"
             ],
             [
              0.7777777777777778,
              "#fb9f3a"
             ],
             [
              0.8888888888888888,
              "#fdca26"
             ],
             [
              1,
              "#f0f921"
             ]
            ],
            "type": "contour"
           }
          ],
          "contourcarpet": [
           {
            "colorbar": {
             "outlinewidth": 0,
             "ticks": ""
            },
            "type": "contourcarpet"
           }
          ],
          "heatmap": [
           {
            "colorbar": {
             "outlinewidth": 0,
             "ticks": ""
            },
            "colorscale": [
             [
              0,
              "#0d0887"
             ],
             [
              0.1111111111111111,
              "#46039f"
             ],
             [
              0.2222222222222222,
              "#7201a8"
             ],
             [
              0.3333333333333333,
              "#9c179e"
             ],
             [
              0.4444444444444444,
              "#bd3786"
             ],
             [
              0.5555555555555556,
              "#d8576b"
             ],
             [
              0.6666666666666666,
              "#ed7953"
             ],
             [
              0.7777777777777778,
              "#fb9f3a"
             ],
             [
              0.8888888888888888,
              "#fdca26"
             ],
             [
              1,
              "#f0f921"
             ]
            ],
            "type": "heatmap"
           }
          ],
          "heatmapgl": [
           {
            "colorbar": {
             "outlinewidth": 0,
             "ticks": ""
            },
            "colorscale": [
             [
              0,
              "#0d0887"
             ],
             [
              0.1111111111111111,
              "#46039f"
             ],
             [
              0.2222222222222222,
              "#7201a8"
             ],
             [
              0.3333333333333333,
              "#9c179e"
             ],
             [
              0.4444444444444444,
              "#bd3786"
             ],
             [
              0.5555555555555556,
              "#d8576b"
             ],
             [
              0.6666666666666666,
              "#ed7953"
             ],
             [
              0.7777777777777778,
              "#fb9f3a"
             ],
             [
              0.8888888888888888,
              "#fdca26"
             ],
             [
              1,
              "#f0f921"
             ]
            ],
            "type": "heatmapgl"
           }
          ],
          "histogram": [
           {
            "marker": {
             "colorbar": {
              "outlinewidth": 0,
              "ticks": ""
             }
            },
            "type": "histogram"
           }
          ],
          "histogram2d": [
           {
            "colorbar": {
             "outlinewidth": 0,
             "ticks": ""
            },
            "colorscale": [
             [
              0,
              "#0d0887"
             ],
             [
              0.1111111111111111,
              "#46039f"
             ],
             [
              0.2222222222222222,
              "#7201a8"
             ],
             [
              0.3333333333333333,
              "#9c179e"
             ],
             [
              0.4444444444444444,
              "#bd3786"
             ],
             [
              0.5555555555555556,
              "#d8576b"
             ],
             [
              0.6666666666666666,
              "#ed7953"
             ],
             [
              0.7777777777777778,
              "#fb9f3a"
             ],
             [
              0.8888888888888888,
              "#fdca26"
             ],
             [
              1,
              "#f0f921"
             ]
            ],
            "type": "histogram2d"
           }
          ],
          "histogram2dcontour": [
           {
            "colorbar": {
             "outlinewidth": 0,
             "ticks": ""
            },
            "colorscale": [
             [
              0,
              "#0d0887"
             ],
             [
              0.1111111111111111,
              "#46039f"
             ],
             [
              0.2222222222222222,
              "#7201a8"
             ],
             [
              0.3333333333333333,
              "#9c179e"
             ],
             [
              0.4444444444444444,
              "#bd3786"
             ],
             [
              0.5555555555555556,
              "#d8576b"
             ],
             [
              0.6666666666666666,
              "#ed7953"
             ],
             [
              0.7777777777777778,
              "#fb9f3a"
             ],
             [
              0.8888888888888888,
              "#fdca26"
             ],
             [
              1,
              "#f0f921"
             ]
            ],
            "type": "histogram2dcontour"
           }
          ],
          "mesh3d": [
           {
            "colorbar": {
             "outlinewidth": 0,
             "ticks": ""
            },
            "type": "mesh3d"
           }
          ],
          "parcoords": [
           {
            "line": {
             "colorbar": {
              "outlinewidth": 0,
              "ticks": ""
             }
            },
            "type": "parcoords"
           }
          ],
          "pie": [
           {
            "automargin": true,
            "type": "pie"
           }
          ],
          "scatter": [
           {
            "marker": {
             "colorbar": {
              "outlinewidth": 0,
              "ticks": ""
             }
            },
            "type": "scatter"
           }
          ],
          "scatter3d": [
           {
            "line": {
             "colorbar": {
              "outlinewidth": 0,
              "ticks": ""
             }
            },
            "marker": {
             "colorbar": {
              "outlinewidth": 0,
              "ticks": ""
             }
            },
            "type": "scatter3d"
           }
          ],
          "scattercarpet": [
           {
            "marker": {
             "colorbar": {
              "outlinewidth": 0,
              "ticks": ""
             }
            },
            "type": "scattercarpet"
           }
          ],
          "scattergeo": [
           {
            "marker": {
             "colorbar": {
              "outlinewidth": 0,
              "ticks": ""
             }
            },
            "type": "scattergeo"
           }
          ],
          "scattergl": [
           {
            "marker": {
             "colorbar": {
              "outlinewidth": 0,
              "ticks": ""
             }
            },
            "type": "scattergl"
           }
          ],
          "scattermapbox": [
           {
            "marker": {
             "colorbar": {
              "outlinewidth": 0,
              "ticks": ""
             }
            },
            "type": "scattermapbox"
           }
          ],
          "scatterpolar": [
           {
            "marker": {
             "colorbar": {
              "outlinewidth": 0,
              "ticks": ""
             }
            },
            "type": "scatterpolar"
           }
          ],
          "scatterpolargl": [
           {
            "marker": {
             "colorbar": {
              "outlinewidth": 0,
              "ticks": ""
             }
            },
            "type": "scatterpolargl"
           }
          ],
          "scatterternary": [
           {
            "marker": {
             "colorbar": {
              "outlinewidth": 0,
              "ticks": ""
             }
            },
            "type": "scatterternary"
           }
          ],
          "surface": [
           {
            "colorbar": {
             "outlinewidth": 0,
             "ticks": ""
            },
            "colorscale": [
             [
              0,
              "#0d0887"
             ],
             [
              0.1111111111111111,
              "#46039f"
             ],
             [
              0.2222222222222222,
              "#7201a8"
             ],
             [
              0.3333333333333333,
              "#9c179e"
             ],
             [
              0.4444444444444444,
              "#bd3786"
             ],
             [
              0.5555555555555556,
              "#d8576b"
             ],
             [
              0.6666666666666666,
              "#ed7953"
             ],
             [
              0.7777777777777778,
              "#fb9f3a"
             ],
             [
              0.8888888888888888,
              "#fdca26"
             ],
             [
              1,
              "#f0f921"
             ]
            ],
            "type": "surface"
           }
          ],
          "table": [
           {
            "cells": {
             "fill": {
              "color": "#EBF0F8"
             },
             "line": {
              "color": "white"
             }
            },
            "header": {
             "fill": {
              "color": "#C8D4E3"
             },
             "line": {
              "color": "white"
             }
            },
            "type": "table"
           }
          ]
         },
         "layout": {
          "annotationdefaults": {
           "arrowcolor": "#2a3f5f",
           "arrowhead": 0,
           "arrowwidth": 1
          },
          "autotypenumbers": "strict",
          "coloraxis": {
           "colorbar": {
            "outlinewidth": 0,
            "ticks": ""
           }
          },
          "colorscale": {
           "diverging": [
            [
             0,
             "#8e0152"
            ],
            [
             0.1,
             "#c51b7d"
            ],
            [
             0.2,
             "#de77ae"
            ],
            [
             0.3,
             "#f1b6da"
            ],
            [
             0.4,
             "#fde0ef"
            ],
            [
             0.5,
             "#f7f7f7"
            ],
            [
             0.6,
             "#e6f5d0"
            ],
            [
             0.7,
             "#b8e186"
            ],
            [
             0.8,
             "#7fbc41"
            ],
            [
             0.9,
             "#4d9221"
            ],
            [
             1,
             "#276419"
            ]
           ],
           "sequential": [
            [
             0,
             "#0d0887"
            ],
            [
             0.1111111111111111,
             "#46039f"
            ],
            [
             0.2222222222222222,
             "#7201a8"
            ],
            [
             0.3333333333333333,
             "#9c179e"
            ],
            [
             0.4444444444444444,
             "#bd3786"
            ],
            [
             0.5555555555555556,
             "#d8576b"
            ],
            [
             0.6666666666666666,
             "#ed7953"
            ],
            [
             0.7777777777777778,
             "#fb9f3a"
            ],
            [
             0.8888888888888888,
             "#fdca26"
            ],
            [
             1,
             "#f0f921"
            ]
           ],
           "sequentialminus": [
            [
             0,
             "#0d0887"
            ],
            [
             0.1111111111111111,
             "#46039f"
            ],
            [
             0.2222222222222222,
             "#7201a8"
            ],
            [
             0.3333333333333333,
             "#9c179e"
            ],
            [
             0.4444444444444444,
             "#bd3786"
            ],
            [
             0.5555555555555556,
             "#d8576b"
            ],
            [
             0.6666666666666666,
             "#ed7953"
            ],
            [
             0.7777777777777778,
             "#fb9f3a"
            ],
            [
             0.8888888888888888,
             "#fdca26"
            ],
            [
             1,
             "#f0f921"
            ]
           ]
          },
          "colorway": [
           "#636efa",
           "#EF553B",
           "#00cc96",
           "#ab63fa",
           "#FFA15A",
           "#19d3f3",
           "#FF6692",
           "#B6E880",
           "#FF97FF",
           "#FECB52"
          ],
          "font": {
           "color": "#2a3f5f"
          },
          "geo": {
           "bgcolor": "white",
           "lakecolor": "white",
           "landcolor": "#E5ECF6",
           "showlakes": true,
           "showland": true,
           "subunitcolor": "white"
          },
          "hoverlabel": {
           "align": "left"
          },
          "hovermode": "closest",
          "mapbox": {
           "style": "light"
          },
          "paper_bgcolor": "white",
          "plot_bgcolor": "#E5ECF6",
          "polar": {
           "angularaxis": {
            "gridcolor": "white",
            "linecolor": "white",
            "ticks": ""
           },
           "bgcolor": "#E5ECF6",
           "radialaxis": {
            "gridcolor": "white",
            "linecolor": "white",
            "ticks": ""
           }
          },
          "scene": {
           "xaxis": {
            "backgroundcolor": "#E5ECF6",
            "gridcolor": "white",
            "gridwidth": 2,
            "linecolor": "white",
            "showbackground": true,
            "ticks": "",
            "zerolinecolor": "white"
           },
           "yaxis": {
            "backgroundcolor": "#E5ECF6",
            "gridcolor": "white",
            "gridwidth": 2,
            "linecolor": "white",
            "showbackground": true,
            "ticks": "",
            "zerolinecolor": "white"
           },
           "zaxis": {
            "backgroundcolor": "#E5ECF6",
            "gridcolor": "white",
            "gridwidth": 2,
            "linecolor": "white",
            "showbackground": true,
            "ticks": "",
            "zerolinecolor": "white"
           }
          },
          "shapedefaults": {
           "line": {
            "color": "#2a3f5f"
           }
          },
          "ternary": {
           "aaxis": {
            "gridcolor": "white",
            "linecolor": "white",
            "ticks": ""
           },
           "baxis": {
            "gridcolor": "white",
            "linecolor": "white",
            "ticks": ""
           },
           "bgcolor": "#E5ECF6",
           "caxis": {
            "gridcolor": "white",
            "linecolor": "white",
            "ticks": ""
           }
          },
          "title": {
           "x": 0.05
          },
          "xaxis": {
           "automargin": true,
           "gridcolor": "white",
           "linecolor": "white",
           "ticks": "",
           "title": {
            "standoff": 15
           },
           "zerolinecolor": "white",
           "zerolinewidth": 2
          },
          "yaxis": {
           "automargin": true,
           "gridcolor": "white",
           "linecolor": "white",
           "ticks": "",
           "title": {
            "standoff": 15
           },
           "zerolinecolor": "white",
           "zerolinewidth": 2
          }
         }
        },
        "title": {
         "font": {
          "color": "#4D5663"
         }
        },
        "width": 800,
        "xaxis": {
         "gridcolor": "#E1E5ED",
         "showgrid": false,
         "side": "top",
         "tickfont": {
          "color": "#4D5663",
          "family": "Bree Serif",
          "size": 15
         },
         "title": {
          "font": {
           "color": "#4D5663",
           "family": "Bree Serif",
           "size": 18
          },
          "text": ""
         },
         "zerolinecolor": "#E1E5ED"
        },
        "yaxis": {
         "gridcolor": "#E1E5ED",
         "showgrid": false,
         "tickfont": {
          "color": "#4D5663",
          "family": "Bree Serif",
          "size": 15
         },
         "tickformat": ".0%",
         "title": {
          "font": {
           "color": "#4D5663",
           "family": "Bree Serif",
           "size": 18
          },
          "text": ""
         },
         "zerolinecolor": "#E1E5ED"
        }
       }
      },
      "text/html": [
       "<div>                            <div id=\"bb65b442-727c-4f98-960c-69351b6be77b\" class=\"plotly-graph-div\" style=\"height:400px; width:800px;\"></div>            <script type=\"text/javascript\">                require([\"plotly\"], function(Plotly) {                    window.PLOTLYENV=window.PLOTLYENV || {};                                    if (document.getElementById(\"bb65b442-727c-4f98-960c-69351b6be77b\")) {                    Plotly.newPlot(                        \"bb65b442-727c-4f98-960c-69351b6be77b\",                        [{\"colorscale\": [[0.0, \"rgb(103,0,31)\"], [0.1, \"rgb(178,24,43)\"], [0.2, \"rgb(214,96,77)\"], [0.3, \"rgb(244,165,130)\"], [0.4, \"rgb(253,219,199)\"], [0.5, \"rgb(247,247,247)\"], [0.6, \"rgb(209,229,240)\"], [0.7, \"rgb(146,197,222)\"], [0.8, \"rgb(67,147,195)\"], [0.9, \"rgb(33,102,172)\"], [1.0, \"rgb(5,48,97)\"]], \"type\": \"heatmap\", \"x\": [\"price_move_4\", \"price_move_3\", \"price_move_2\", \"price_move_1\", \"price_move_0\", \"is_inrease_4\", \"is_inrease_3\", \"is_inrease_2\", \"is_inrease_1\", \"is_inrease_0\"], \"y\": [\"price_move_4\", \"price_move_3\", \"price_move_2\", \"price_move_1\", \"price_move_0\", \"is_inrease_4\", \"is_inrease_3\", \"is_inrease_2\", \"is_inrease_1\", \"is_inrease_0\"], \"z\": [[1.0, -0.07603228677212415, -0.017072743885298235, -0.0782623121703874, -0.01372577315502742, 0.7318209692510194, -0.02733590030380128, -0.019214826978305278, -0.030706305266646767, -0.03195604520515796], [-0.07603228677212415, 1.0, 0.03849614846724553, 0.08968427043728751, -0.023973829572760126, 0.0021265317901620964, 0.7324396532246303, 0.039842092944677186, 0.04136783454164326, 0.05093857347347704], [-0.017072743885298235, 0.03849614846724553, 1.0, 0.0611766585275858, 0.00401700896589968, -0.0204587588549509, 1.8062608377011557e-05, 0.7328064120433296, 0.034286467134294764, 0.01206471494617129], [-0.0782623121703874, 0.08968427043728751, 0.0611766585275858, 1.0, -0.06035272800157029, -0.028608223493286972, 0.06842003352054282, 0.06345532004827667, 0.7360030167531416, -0.07541195832835414], [-0.01372577315502742, -0.023973829572760126, 0.00401700896589968, -0.06035272800157029, 1.0, -0.04949778311569517, 0.017929339366854265, -0.004736180193305708, -0.052816902971041656, 0.7438404443752958], [0.7318209692510194, 0.0021265317901620964, -0.0204587588549509, -0.028608223493286972, -0.04949778311569517, 1.0, 0.012451776044043962, 0.0069372219313677715, -0.007590538816846783, -0.03804136901391469], [-0.02733590030380128, 0.7324396532246303, 1.8062608377011557e-05, 0.06842003352054282, 0.017929339366854265, 0.012451776044043962, 1.0, -0.024288909191107946, 0.04608934712005508, 0.051946131455391446], [-0.019214826978305278, 0.039842092944677186, 0.7328064120433296, 0.06345532004827667, -0.004736180193305708, 0.0069372219313677715, -0.024288909191107946, 1.0, 0.07584108322647114, -0.01315411079079613], [-0.030706305266646767, 0.04136783454164326, 0.034286467134294764, 0.7360030167531416, -0.052816902971041656, -0.007590538816846783, 0.04608934712005508, 0.07584108322647114, 1.0, -0.06085440237854939], [-0.03195604520515796, 0.05093857347347704, 0.01206471494617129, -0.07541195832835414, 0.7438404443752958, -0.03804136901391469, 0.051946131455391446, -0.01315411079079613, -0.06085440237854939, 1.0]], \"zmax\": 1.0, \"zmin\": -0.0782623121703874}],                        {\"height\": 400, \"legend\": {\"bgcolor\": \"#F5F6F9\", \"font\": {\"color\": \"#4D5663\", \"family\": \"Bree Serif\", \"size\": 18}}, \"margin\": {\"b\": 0, \"l\": 0, \"r\": 120, \"t\": 0}, \"paper_bgcolor\": \"#FFFFFF\", \"plot_bgcolor\": \"#FFFFFF\", \"template\": {\"data\": {\"bar\": [{\"error_x\": {\"color\": \"#2a3f5f\"}, \"error_y\": {\"color\": \"#2a3f5f\"}, \"marker\": {\"line\": {\"color\": \"#E5ECF6\", \"width\": 0.5}}, \"type\": \"bar\"}], \"barpolar\": [{\"marker\": {\"line\": {\"color\": \"#E5ECF6\", \"width\": 0.5}}, \"type\": \"barpolar\"}], \"carpet\": [{\"aaxis\": {\"endlinecolor\": \"#2a3f5f\", \"gridcolor\": \"white\", \"linecolor\": \"white\", \"minorgridcolor\": \"white\", \"startlinecolor\": \"#2a3f5f\"}, \"baxis\": {\"endlinecolor\": \"#2a3f5f\", \"gridcolor\": \"white\", \"linecolor\": \"white\", \"minorgridcolor\": \"white\", \"startlinecolor\": \"#2a3f5f\"}, \"type\": \"carpet\"}], \"choropleth\": [{\"colorbar\": {\"outlinewidth\": 0, \"ticks\": \"\"}, \"type\": \"choropleth\"}], \"contour\": [{\"colorbar\": {\"outlinewidth\": 0, \"ticks\": \"\"}, \"colorscale\": [[0.0, \"#0d0887\"], [0.1111111111111111, \"#46039f\"], [0.2222222222222222, \"#7201a8\"], [0.3333333333333333, \"#9c179e\"], [0.4444444444444444, \"#bd3786\"], [0.5555555555555556, \"#d8576b\"], [0.6666666666666666, \"#ed7953\"], [0.7777777777777778, \"#fb9f3a\"], [0.8888888888888888, \"#fdca26\"], [1.0, \"#f0f921\"]], \"type\": \"contour\"}], \"contourcarpet\": [{\"colorbar\": {\"outlinewidth\": 0, \"ticks\": \"\"}, \"type\": \"contourcarpet\"}], \"heatmap\": [{\"colorbar\": {\"outlinewidth\": 0, \"ticks\": \"\"}, \"colorscale\": [[0.0, \"#0d0887\"], [0.1111111111111111, \"#46039f\"], [0.2222222222222222, \"#7201a8\"], [0.3333333333333333, \"#9c179e\"], [0.4444444444444444, \"#bd3786\"], [0.5555555555555556, \"#d8576b\"], [0.6666666666666666, \"#ed7953\"], [0.7777777777777778, \"#fb9f3a\"], [0.8888888888888888, \"#fdca26\"], [1.0, \"#f0f921\"]], \"type\": \"heatmap\"}], \"heatmapgl\": [{\"colorbar\": {\"outlinewidth\": 0, \"ticks\": \"\"}, \"colorscale\": [[0.0, \"#0d0887\"], [0.1111111111111111, \"#46039f\"], [0.2222222222222222, \"#7201a8\"], [0.3333333333333333, \"#9c179e\"], [0.4444444444444444, \"#bd3786\"], [0.5555555555555556, \"#d8576b\"], [0.6666666666666666, \"#ed7953\"], [0.7777777777777778, \"#fb9f3a\"], [0.8888888888888888, \"#fdca26\"], [1.0, \"#f0f921\"]], \"type\": \"heatmapgl\"}], \"histogram\": [{\"marker\": {\"colorbar\": {\"outlinewidth\": 0, \"ticks\": \"\"}}, \"type\": \"histogram\"}], \"histogram2d\": [{\"colorbar\": {\"outlinewidth\": 0, \"ticks\": \"\"}, \"colorscale\": [[0.0, \"#0d0887\"], [0.1111111111111111, \"#46039f\"], [0.2222222222222222, \"#7201a8\"], [0.3333333333333333, \"#9c179e\"], [0.4444444444444444, \"#bd3786\"], [0.5555555555555556, \"#d8576b\"], [0.6666666666666666, \"#ed7953\"], [0.7777777777777778, \"#fb9f3a\"], [0.8888888888888888, \"#fdca26\"], [1.0, \"#f0f921\"]], \"type\": \"histogram2d\"}], \"histogram2dcontour\": [{\"colorbar\": {\"outlinewidth\": 0, \"ticks\": \"\"}, \"colorscale\": [[0.0, \"#0d0887\"], [0.1111111111111111, \"#46039f\"], [0.2222222222222222, \"#7201a8\"], [0.3333333333333333, \"#9c179e\"], [0.4444444444444444, \"#bd3786\"], [0.5555555555555556, \"#d8576b\"], [0.6666666666666666, \"#ed7953\"], [0.7777777777777778, \"#fb9f3a\"], [0.8888888888888888, \"#fdca26\"], [1.0, \"#f0f921\"]], \"type\": \"histogram2dcontour\"}], \"mesh3d\": [{\"colorbar\": {\"outlinewidth\": 0, \"ticks\": \"\"}, \"type\": \"mesh3d\"}], \"parcoords\": [{\"line\": {\"colorbar\": {\"outlinewidth\": 0, \"ticks\": \"\"}}, \"type\": \"parcoords\"}], \"pie\": [{\"automargin\": true, \"type\": \"pie\"}], \"scatter\": [{\"marker\": {\"colorbar\": {\"outlinewidth\": 0, \"ticks\": \"\"}}, \"type\": \"scatter\"}], \"scatter3d\": [{\"line\": {\"colorbar\": {\"outlinewidth\": 0, \"ticks\": \"\"}}, \"marker\": {\"colorbar\": {\"outlinewidth\": 0, \"ticks\": \"\"}}, \"type\": \"scatter3d\"}], \"scattercarpet\": [{\"marker\": {\"colorbar\": {\"outlinewidth\": 0, \"ticks\": \"\"}}, \"type\": \"scattercarpet\"}], \"scattergeo\": [{\"marker\": {\"colorbar\": {\"outlinewidth\": 0, \"ticks\": \"\"}}, \"type\": \"scattergeo\"}], \"scattergl\": [{\"marker\": {\"colorbar\": {\"outlinewidth\": 0, \"ticks\": \"\"}}, \"type\": \"scattergl\"}], \"scattermapbox\": [{\"marker\": {\"colorbar\": {\"outlinewidth\": 0, \"ticks\": \"\"}}, \"type\": \"scattermapbox\"}], \"scatterpolar\": [{\"marker\": {\"colorbar\": {\"outlinewidth\": 0, \"ticks\": \"\"}}, \"type\": \"scatterpolar\"}], \"scatterpolargl\": [{\"marker\": {\"colorbar\": {\"outlinewidth\": 0, \"ticks\": \"\"}}, \"type\": \"scatterpolargl\"}], \"scatterternary\": [{\"marker\": {\"colorbar\": {\"outlinewidth\": 0, \"ticks\": \"\"}}, \"type\": \"scatterternary\"}], \"surface\": [{\"colorbar\": {\"outlinewidth\": 0, \"ticks\": \"\"}, \"colorscale\": [[0.0, \"#0d0887\"], [0.1111111111111111, \"#46039f\"], [0.2222222222222222, \"#7201a8\"], [0.3333333333333333, \"#9c179e\"], [0.4444444444444444, \"#bd3786\"], [0.5555555555555556, \"#d8576b\"], [0.6666666666666666, \"#ed7953\"], [0.7777777777777778, \"#fb9f3a\"], [0.8888888888888888, \"#fdca26\"], [1.0, \"#f0f921\"]], \"type\": \"surface\"}], \"table\": [{\"cells\": {\"fill\": {\"color\": \"#EBF0F8\"}, \"line\": {\"color\": \"white\"}}, \"header\": {\"fill\": {\"color\": \"#C8D4E3\"}, \"line\": {\"color\": \"white\"}}, \"type\": \"table\"}]}, \"layout\": {\"annotationdefaults\": {\"arrowcolor\": \"#2a3f5f\", \"arrowhead\": 0, \"arrowwidth\": 1}, \"autotypenumbers\": \"strict\", \"coloraxis\": {\"colorbar\": {\"outlinewidth\": 0, \"ticks\": \"\"}}, \"colorscale\": {\"diverging\": [[0, \"#8e0152\"], [0.1, \"#c51b7d\"], [0.2, \"#de77ae\"], [0.3, \"#f1b6da\"], [0.4, \"#fde0ef\"], [0.5, \"#f7f7f7\"], [0.6, \"#e6f5d0\"], [0.7, \"#b8e186\"], [0.8, \"#7fbc41\"], [0.9, \"#4d9221\"], [1, \"#276419\"]], \"sequential\": [[0.0, \"#0d0887\"], [0.1111111111111111, \"#46039f\"], [0.2222222222222222, \"#7201a8\"], [0.3333333333333333, \"#9c179e\"], [0.4444444444444444, \"#bd3786\"], [0.5555555555555556, \"#d8576b\"], [0.6666666666666666, \"#ed7953\"], [0.7777777777777778, \"#fb9f3a\"], [0.8888888888888888, \"#fdca26\"], [1.0, \"#f0f921\"]], \"sequentialminus\": [[0.0, \"#0d0887\"], [0.1111111111111111, \"#46039f\"], [0.2222222222222222, \"#7201a8\"], [0.3333333333333333, \"#9c179e\"], [0.4444444444444444, \"#bd3786\"], [0.5555555555555556, \"#d8576b\"], [0.6666666666666666, \"#ed7953\"], [0.7777777777777778, \"#fb9f3a\"], [0.8888888888888888, \"#fdca26\"], [1.0, \"#f0f921\"]]}, \"colorway\": [\"#636efa\", \"#EF553B\", \"#00cc96\", \"#ab63fa\", \"#FFA15A\", \"#19d3f3\", \"#FF6692\", \"#B6E880\", \"#FF97FF\", \"#FECB52\"], \"font\": {\"color\": \"#2a3f5f\"}, \"geo\": {\"bgcolor\": \"white\", \"lakecolor\": \"white\", \"landcolor\": \"#E5ECF6\", \"showlakes\": true, \"showland\": true, \"subunitcolor\": \"white\"}, \"hoverlabel\": {\"align\": \"left\"}, \"hovermode\": \"closest\", \"mapbox\": {\"style\": \"light\"}, \"paper_bgcolor\": \"white\", \"plot_bgcolor\": \"#E5ECF6\", \"polar\": {\"angularaxis\": {\"gridcolor\": \"white\", \"linecolor\": \"white\", \"ticks\": \"\"}, \"bgcolor\": \"#E5ECF6\", \"radialaxis\": {\"gridcolor\": \"white\", \"linecolor\": \"white\", \"ticks\": \"\"}}, \"scene\": {\"xaxis\": {\"backgroundcolor\": \"#E5ECF6\", \"gridcolor\": \"white\", \"gridwidth\": 2, \"linecolor\": \"white\", \"showbackground\": true, \"ticks\": \"\", \"zerolinecolor\": \"white\"}, \"yaxis\": {\"backgroundcolor\": \"#E5ECF6\", \"gridcolor\": \"white\", \"gridwidth\": 2, \"linecolor\": \"white\", \"showbackground\": true, \"ticks\": \"\", \"zerolinecolor\": \"white\"}, \"zaxis\": {\"backgroundcolor\": \"#E5ECF6\", \"gridcolor\": \"white\", \"gridwidth\": 2, \"linecolor\": \"white\", \"showbackground\": true, \"ticks\": \"\", \"zerolinecolor\": \"white\"}}, \"shapedefaults\": {\"line\": {\"color\": \"#2a3f5f\"}}, \"ternary\": {\"aaxis\": {\"gridcolor\": \"white\", \"linecolor\": \"white\", \"ticks\": \"\"}, \"baxis\": {\"gridcolor\": \"white\", \"linecolor\": \"white\", \"ticks\": \"\"}, \"bgcolor\": \"#E5ECF6\", \"caxis\": {\"gridcolor\": \"white\", \"linecolor\": \"white\", \"ticks\": \"\"}}, \"title\": {\"x\": 0.05}, \"xaxis\": {\"automargin\": true, \"gridcolor\": \"white\", \"linecolor\": \"white\", \"ticks\": \"\", \"title\": {\"standoff\": 15}, \"zerolinecolor\": \"white\", \"zerolinewidth\": 2}, \"yaxis\": {\"automargin\": true, \"gridcolor\": \"white\", \"linecolor\": \"white\", \"ticks\": \"\", \"title\": {\"standoff\": 15}, \"zerolinecolor\": \"white\", \"zerolinewidth\": 2}}}, \"title\": {\"font\": {\"color\": \"#4D5663\"}}, \"width\": 800, \"xaxis\": {\"gridcolor\": \"#E1E5ED\", \"showgrid\": false, \"side\": \"top\", \"tickfont\": {\"color\": \"#4D5663\", \"family\": \"Bree Serif\", \"size\": 15}, \"title\": {\"font\": {\"color\": \"#4D5663\", \"family\": \"Bree Serif\", \"size\": 18}, \"text\": \"\"}, \"zerolinecolor\": \"#E1E5ED\"}, \"yaxis\": {\"gridcolor\": \"#E1E5ED\", \"showgrid\": false, \"tickfont\": {\"color\": \"#4D5663\", \"family\": \"Bree Serif\", \"size\": 15}, \"tickformat\": \".0%\", \"title\": {\"font\": {\"color\": \"#4D5663\", \"family\": \"Bree Serif\", \"size\": 18}, \"text\": \"\"}, \"zerolinecolor\": \"#E1E5ED\"}},                        {\"responsive\": true}                    ).then(function(){\n",
       "                            \n",
       "var gd = document.getElementById('bb65b442-727c-4f98-960c-69351b6be77b');\n",
       "var x = new MutationObserver(function (mutations, observer) {{\n",
       "        var display = window.getComputedStyle(gd).display;\n",
       "        if (!display || display === 'none') {{\n",
       "            console.log([gd, 'removed!']);\n",
       "            Plotly.purge(gd);\n",
       "            observer.disconnect();\n",
       "        }}\n",
       "}});\n",
       "\n",
       "// Listen for the removal of the full notebook cells\n",
       "var notebookContainer = gd.closest('#notebook-container');\n",
       "if (notebookContainer) {{\n",
       "    x.observe(notebookContainer, {childList: true});\n",
       "}}\n",
       "\n",
       "// Listen for the clearing of the current output cell\n",
       "var outputEl = gd.closest('.output');\n",
       "if (outputEl) {{\n",
       "    x.observe(outputEl, {childList: true});\n",
       "}}\n",
       "\n",
       "                        })                };                });            </script>        </div>"
      ]
     },
     "metadata": {},
     "output_type": "display_data"
    }
   ],
   "source": [
    "plot_heatmap(df_features.corr())"
   ]
  },
  {
   "cell_type": "code",
   "execution_count": 99,
   "metadata": {},
   "outputs": [],
   "source": [
    "import seaborn as sns\n",
    "def plot_heatmap(df_graph):\n",
    "    max_pnl = df_graph.max().max()\n",
    "    min_pnl = df_graph.min().min()\n",
    "    df_graph=df_graph.transpose().iplot(kind='heatmap', colorscale='Rdbu',asFigure=True)\n",
    "\n",
    "    #df_graph['data'][0]['reversescale']=True\n",
    "\n",
    "    #other layout formatting\n",
    "    df_graph['layout']['paper_bgcolor']='#FFFFFF'\n",
    "    df_graph['layout']['plot_bgcolor']='#FFFFFF'\n",
    "\n",
    "    df_graph['layout']['xaxis']['showgrid']=False\n",
    "    df_graph['layout']['yaxis']['showgrid']=False\n",
    "\n",
    "    #df_graph['layout']['yaxis']['zeroline']=False\n",
    "    #df_graph['layout']['xaxis']['zeroline']=False\n",
    "\n",
    "    df_graph['layout']['width']=800\n",
    "    df_graph['layout']['height']=400\n",
    "\n",
    "    df_graph['layout']['margin']['t']=0\n",
    "    df_graph['layout']['margin']['b']=0\n",
    "    df_graph['layout']['margin']['l']=0\n",
    "    df_graph['layout']['margin']['r']=120\n",
    "    df_graph['layout']['yaxis']['tickfont']['size']=15\n",
    "    df_graph['layout']['xaxis']['tickfont']['size']=15\n",
    "    df_graph['layout']['yaxis']['tickfont']['family']='Bree Serif'\n",
    "    df_graph['layout']['xaxis']['tickfont']['family']='Bree Serif'\n",
    "    df_graph['layout']['yaxis']['tickformat'] = \".0%\"\n",
    "    #df_graph['layout']['xaxis']['tickformat'] = \".0%\"\n",
    "\n",
    "    df_graph['layout']['yaxis']['title']['text']=''\n",
    "    df_graph['layout']['xaxis']['title']['text']=''\n",
    "    df_graph['layout']['yaxis']['title']['font']['family']='Bree Serif' \n",
    "    df_graph['layout']['xaxis']['title']['font']['family']='Bree Serif'\n",
    "    df_graph['layout']['yaxis']['title']['font']['size']=18\n",
    "    df_graph['layout']['xaxis']['title']['font']['size']=18\n",
    "    df_graph['layout']['legend']['font']['family']='Bree Serif'\n",
    "    df_graph['layout']['legend']['font']['size']=18\n",
    "\n",
    "    annotations=[]\n",
    "    cmap=sns.color_palette('Greens_r', 10)\n",
    "    cmap=['rgb({0},{1},{2})'.format(x[0], x[1], x[2]) for x in cmap]\n",
    "    cmap[0]='black'\n",
    "    #cmap.reverse()\n",
    "    for i,y_value in enumerate(df_graph['data'][0]['y']):\n",
    "        for j,x_value in enumerate(df_graph['data'][0]['x']):\n",
    "            text=df_graph['data'][0]['z'][i][j]\n",
    "            if pd.notnull(text) and abs(text)>1:\n",
    "                #color=cmap[int(((int(text)-min_pnl)/(max_pnl-min_pnl))*10)]\n",
    "                text=human_format(text)\n",
    "                #print(y_value, x_value,text)\n",
    "                annotations.append(dict(xref='x', yref='y',\n",
    "                            x=x_value, y=y_value,xanchor='center',\n",
    "                            text=text, font=dict(family='Bree Serif', size=16, color = 'black'),\n",
    "                                        showarrow=False, align='center'))\n",
    "\n",
    "    df_graph['layout']['annotations']=annotations\n",
    "\n",
    "    # new_colorscale =  []\n",
    "    # for i,field in enumerate(df_graph['data'][0]['colorscale']):\n",
    "    #     if field[0]==0:\n",
    "    #         new_colorscale.append((field[0],'white'))\n",
    "    #     else:\n",
    "    #         new_colorscale.append(field)\n",
    "    # new_colorscale = tuple(new_colorscale)\n",
    "    #df_graph['data'][0]['colorscale'] = new_colorscale\n",
    "\n",
    "    df_graph['layout']['xaxis']['side'] = 'top'\n",
    "\n",
    "    iplot(df_graph)"
   ]
  },
  {
   "cell_type": "code",
   "execution_count": null,
   "metadata": {},
   "outputs": [],
   "source": []
  },
  {
   "cell_type": "code",
   "execution_count": null,
   "metadata": {},
   "outputs": [],
   "source": []
  },
  {
   "cell_type": "code",
   "execution_count": null,
   "metadata": {},
   "outputs": [],
   "source": [
    "df_results = pd.DataFrame()\n",
    "for dependent_variable in dependent_variables:\n",
    "    for explanatory_variable in explanatory_variables:\n",
    "        explanatory_variable_reg = 'Q(\"{0}\")'.format(explanatory_variable) \n",
    "        ols_results = smf.ols(r'{0}'.format(dependent_variable)+ '~{0}'\\\n",
    "                     .format(explanatory_variable_reg), df_reg).fit()\n",
    "        df_results_part = pd.DataFrame(index=[0])\n",
    "        df_results_part['explanatory_variable'] = explanatory_variable\n",
    "        df_results_part['dependent_variable'] = dependent_variable\n",
    "        df_results_part['beta']=ols_results.params[1]\n",
    "        df_results_part['pvalue']=ols_results.pvalues[1]\n",
    "        df_results_part['R2']=ols_results.rsquared_adj\n",
    "        df_results_part['observations']=ols_results.nobs\n",
    "        df_results = pd.concat([df_results, df_results_part])"
   ]
  }
 ],
 "metadata": {
  "kernelspec": {
   "display_name": "Python 3",
   "language": "python",
   "name": "python3"
  },
  "language_info": {
   "codemirror_mode": {
    "name": "ipython",
    "version": 3
   },
   "file_extension": ".py",
   "mimetype": "text/x-python",
   "name": "python",
   "nbconvert_exporter": "python",
   "pygments_lexer": "ipython3",
   "version": "3.8.5"
  }
 },
 "nbformat": 4,
 "nbformat_minor": 4
}
