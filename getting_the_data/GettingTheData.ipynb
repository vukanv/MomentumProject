{
 "cells": [
  {
   "cell_type": "code",
   "execution_count": 14,
   "metadata": {},
   "outputs": [],
   "source": [
    "import datetime as dt\n",
    "import pyiqfeed as iq\n",
    "import time\n",
    "import pandas as pd\n",
    "import os"
   ]
  },
  {
   "cell_type": "code",
   "execution_count": 28,
   "metadata": {},
   "outputs": [],
   "source": [
    "def get_bars_before_settlement(start_datetime, end_datetime, \n",
    "                               bgn_flt, end_flt, ticker: str, \n",
    "                            bar_len: int, bar_unit: str, request_timeout: int):\n",
    "    \"\"\"Shows how to get interval bars.\"\"\"\n",
    "    hist_conn = iq.HistoryConn(name=\"pyiqfeed-Example-historical-bars\")\n",
    "    hist_listener = iq.VerboseIQFeedListener(\"History Bar Listener\")\n",
    "    hist_conn.add_listener(hist_listener)\n",
    "\n",
    "    with iq.ConnConnector([hist_conn]) as connector:\n",
    "        # look at conn.py for request_bars, request_bars_for_days and\n",
    "        # request_bars_in_period for other ways to specify time periods etc\n",
    "        try:\n",
    "            bars = hist_conn.request_bars_in_period(ticker=ticker,\n",
    "                                                    interval_len=bar_len,\n",
    "                                                    interval_type=bar_unit,\n",
    "                                                     bgn_flt=bgn_flt,\n",
    "                                                     end_flt=end_flt,                                                  \n",
    "                                                    bgn_prd=start_datetime,\n",
    "                                                    end_prd=end_datetime,\n",
    "                                                    timeout=request_timeout)\n",
    "            return {'data':bars,'error_message':''}\n",
    "        except (iq.NoDataError, iq.UnauthorizedError) as err:\n",
    "            error_message = \"No data returned because {0}\".format(err)\n",
    "            return {'data':[],'error_message':''}"
   ]
  },
  {
   "cell_type": "markdown",
   "metadata": {},
   "source": [
    "# Downloading the Data"
   ]
  },
  {
   "cell_type": "code",
   "execution_count": 29,
   "metadata": {},
   "outputs": [
    {
     "name": "stdout",
     "output_type": "stream",
     "text": [
      "The directory data/ already exists\n"
     ]
    }
   ],
   "source": [
    "# define the name of the directory to be created\n",
    "path_folder = r'data/' #os.getcwd() + '/data/'\n",
    "if not os.path.isdir(path_folder):\n",
    "    try:\n",
    "        os.mkdir(path_folder)\n",
    "    except OSError:\n",
    "        print (\"Creation of the directory %s failed\" % path_folder)\n",
    "    else:\n",
    "        print (\"Successfully created the directory %s \" % path_folder)\n",
    "else:\n",
    "    print (\"The directory %s already exists\" % path_folder)"
   ]
  },
  {
   "cell_type": "code",
   "execution_count": 30,
   "metadata": {},
   "outputs": [],
   "source": [
    "####LAUNCH IQFEED#####"
   ]
  },
  {
   "cell_type": "code",
   "execution_count": 31,
   "metadata": {},
   "outputs": [],
   "source": [
    "df_symbols = pd.read_csv(r'df_symbols.csv', encoding='utf-8')\n",
    "\n",
    "df_symbols['Settlement'] = pd.to_datetime(df_symbols['Settlement']).dt.time\n",
    "\n",
    "\n",
    "df_symbols['start'] = df_symbols['Settlement'].apply(lambda x:\n",
    "                (dt.datetime.combine(dt.date(1,1,1),x)-dt.timedelta(minutes = 5)).time())\n",
    "df_symbols['end'] = df_symbols['Settlement']"
   ]
  },
  {
   "cell_type": "code",
   "execution_count": 32,
   "metadata": {},
   "outputs": [],
   "source": [
    "bar_len=60\n",
    "bar_unit='s'\n",
    "request_timeout=60*5\n",
    "\n",
    "start_datetime = pd.to_datetime('2018-01-01 00:00:00').to_pydatetime()\n",
    "date_today = pd.to_datetime(datetime.datetime.today()).to_pydatetime()\n",
    "\n",
    "#opening log\n",
    "download_log = open(\"log.txt\",\"a\")"
   ]
  },
  {
   "cell_type": "code",
   "execution_count": 40,
   "metadata": {},
   "outputs": [],
   "source": [
    "#loop over tickers and download\n",
    "downloaded_tickers = []\n",
    "for index, row in df_symbols.iterrows():\n",
    "    ticker = row['Symbol']\n",
    "    bgn_flt = row['start']\n",
    "    end_flt = row['end']\n",
    "    \n",
    "    #requesting the data\n",
    "    log_line = \"Downloading symbol: %s...\" % ticker\n",
    "    log_line = log_line+str(start_datetime)+'_'+str(date_today)\n",
    "    download_log.write(log_line+'\\n')\n",
    "    response = get_bars_before_settlement(start_datetime, date_today, bgn_flt, end_flt,\n",
    "                            ticker, \n",
    "                         bar_len, bar_unit, request_timeout)\n",
    "    data = pd.DataFrame(response['data'])\n",
    "    download_log.write(response['error_message']+'\\n')\n",
    "    #saving the data\n",
    "    if data.shape[0]>1:\n",
    "        data.to_csv(path_folder + \"%s.csv\" % ticker, encoding = \"utf-8\",mode='a')\n",
    "    time.sleep(1)\n",
    "    downloaded_tickers.append(ticker)\n",
    "\n",
    "download_log.close()        "
   ]
  },
  {
   "cell_type": "code",
   "execution_count": null,
   "metadata": {},
   "outputs": [],
   "source": []
  }
 ],
 "metadata": {
  "kernelspec": {
   "display_name": "Python 3",
   "language": "python",
   "name": "python3"
  },
  "language_info": {
   "codemirror_mode": {
    "name": "ipython",
    "version": 3
   },
   "file_extension": ".py",
   "mimetype": "text/x-python",
   "name": "python",
   "nbconvert_exporter": "python",
   "pygments_lexer": "ipython3",
   "version": "3.8.5"
  }
 },
 "nbformat": 4,
 "nbformat_minor": 4
}
